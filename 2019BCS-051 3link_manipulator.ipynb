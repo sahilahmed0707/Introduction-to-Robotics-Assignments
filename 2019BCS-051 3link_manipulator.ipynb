{
  "nbformat": 4,
  "nbformat_minor": 0,
  "metadata": {
    "colab": {
      "name": "3link_manipulator.ipynb",
      "provenance": [],
      "collapsed_sections": []
    },
    "kernelspec": {
      "display_name": "Python 3",
      "language": "python",
      "name": "python3"
    },
    "language_info": {
      "codemirror_mode": {
        "name": "ipython",
        "version": 3
      },
      "file_extension": ".py",
      "mimetype": "text/x-python",
      "name": "python",
      "nbconvert_exporter": "python",
      "pygments_lexer": "ipython3",
      "version": "3.8.5"
    },
    "accelerator": "GPU"
  },
  "cells": [
    {
      "cell_type": "code",
      "metadata": {
        "colab": {
          "base_uri": "https://localhost:8080/"
        },
        "id": "-wmohz6ymdp2",
        "outputId": "01e6e531-ebf1-4e70-a9e1-0f173ce31814"
      },
      "source": [
        "import math as m\n",
        "import random\n",
        "import csv\n",
        "import matplotlib.pyplot as plt\n",
        "import pandas as pd\n",
        "from sklearn.model_selection import train_test_split\n",
        "import tensorflow.compat.v1 as tf\n",
        "tf.disable_v2_behavior()\n",
        "import keras\n",
        "from keras.models import Sequential\n",
        "from keras.layers import Dense\n",
        "from keras import regularizers\n",
        "import numpy as np\n",
        "import statsmodels.regression.linear_model as sm\n",
        "\n",
        "# length of manipulators\n",
        "l1 = l2 = l3 = 7"
      ],
      "execution_count": 1,
      "outputs": [
        {
          "output_type": "stream",
          "text": [
            "WARNING:tensorflow:From /usr/local/lib/python3.7/dist-packages/tensorflow/python/compat/v2_compat.py:96: disable_resource_variables (from tensorflow.python.ops.variable_scope) is deprecated and will be removed in a future version.\n",
            "Instructions for updating:\n",
            "non-resource variables are not supported in the long term\n"
          ],
          "name": "stdout"
        },
        {
          "output_type": "stream",
          "text": [
            "/usr/local/lib/python3.7/dist-packages/statsmodels/tools/_testing.py:19: FutureWarning: pandas.util.testing is deprecated. Use the functions in the public API at pandas.testing instead.\n",
            "  import pandas.util.testing as tm\n"
          ],
          "name": "stderr"
        }
      ]
    },
    {
      "cell_type": "code",
      "metadata": {
        "id": "DbflvrjYr2Y3"
      },
      "source": [
        "## Generating dataset for training of 3 link manipulator\n",
        "def threeLinkManipulatorFile():\n",
        "    with open('threeLink.csv', 'w') as csvFile:\n",
        "        row = ['q1','q2','q3','xe','ye','thetae']\n",
        "        csv.writer(csvFile).writerow(row)\n",
        "        for i in range(1, 100000):\n",
        "            \n",
        "            q1 = round(random.uniform(0,m.pi),2)\n",
        "            q2= round(random.uniform(-m.pi, 0),2)\n",
        "            q3= round(random.uniform(-m.pi/2,m.pi/2))\n",
        "            \n",
        "            thetae=round(m.degrees(q1)+m.degrees(q2)+m.degrees(q3),2)\n",
        "            xe= round(l1*m.cos(q1)+ l2*m.cos(q1+q2)+ l3*m.cos(q1+q2+q3),2)\n",
        "            ye= round(l1*m.sin(q1)+ l2*m.sin(q1+q2)+ l3*m.sin(q1+q2+q3),2)\n",
        "            \n",
        "            \n",
        "            row = [q1,q2,q3,xe,ye,thetae]\n",
        "            csv.writer(csvFile).writerow(row)\n",
        "                \n",
        "    csvFile.close()\n",
        "    \n",
        "threeLinkManipulatorFile()"
      ],
      "execution_count": 2,
      "outputs": []
    },
    {
      "cell_type": "code",
      "metadata": {
        "colab": {
          "base_uri": "https://localhost:8080/",
          "height": 1000
        },
        "id": "x8umT7E2nIIA",
        "outputId": "6bb38c5d-fe4a-40f8-a1c9-c7e7548552fa"
      },
      "source": [
        "## Visualising generated dataset\n",
        "data=pd.read_csv('threeLink.csv')\n",
        "print(data.shape)\n",
        "plt.scatter(data['xe'],data['ye'])\n",
        "plt.show()\n",
        "\n",
        "# splitting training and testing dataset\n",
        "\n",
        "##training data for inverse kinematics\n",
        "x = data.iloc[:,3:].values\n",
        "y =data.iloc[:,0:3].values\n",
        "x_train,x_test,y_train,y_test = train_test_split(x,y,test_size=0.15)\n",
        "\n",
        "#model\n",
        "classifier = Sequential()\n",
        "classifier.add(Dense(units = 3,input_dim = 3,kernel_initializer = 'uniform'))\n",
        "#classifier.add(keras.layers.Dropout(0.2))\n",
        "classifier.add(Dense(units = 100,kernel_initializer = 'uniform',activation = 'relu'))\n",
        "#classifier.add(keras.layers.Dropout(0.2))\n",
        "classifier.add(Dense(units = 3,kernel_initializer = 'uniform',activation='linear'))\n",
        "classifier.compile(optimizer='adam',loss=tf.keras.losses.MeanSquaredError(),metrics=['accuracy'])\n",
        "\n",
        "#training model\n",
        "history=classifier.fit(x_train,y_train ,epochs=50, validation_split=0.1, shuffle=True)\n",
        "\n",
        "#Evaluating model on testing data \n",
        "print('Testing the model:\\n')\n",
        "test_loss, test_acc = classifier.evaluate(x_test, y_test)\n",
        "\n",
        "print('\\nTesting Loss = ', test_loss) \n",
        "print('Testing Accuracy = ', test_acc)\n"
      ],
      "execution_count": 3,
      "outputs": [
        {
          "output_type": "stream",
          "text": [
            "(99999, 6)\n"
          ],
          "name": "stdout"
        },
        {
          "output_type": "display_data",
          "data": {
            "image/png": "[encoded data removed]",
            "text/plain": [
              "<Figure size 432x288 with 1 Axes>"
            ]
          },
          "metadata": {
            "tags": [],
            "needs_background": "light"
          }
        },
        {
          "output_type": "stream",
          "text": [
            "WARNING:tensorflow:From /usr/local/lib/python3.7/dist-packages/tensorflow/python/keras/initializers/initializers_v1.py:59: calling RandomUniform.__init__ (from tensorflow.python.ops.init_ops) with dtype is deprecated and will be removed in a future version.\n",
            "Instructions for updating:\n",
            "Call initializer instance with the dtype argument instead of passing it to the constructor\n",
            "Train on 76499 samples, validate on 8500 samples\n",
            "Epoch 1/50\n",
            "75872/76499 [============================>.] - ETA: 0s - loss: 0.2363 - acc: 0.9185"
          ],
          "name": "stdout"
        },
        {
          "output_type": "stream",
          "text": [
            "/usr/local/lib/python3.7/dist-packages/tensorflow/python/keras/engine/training.py:2325: UserWarning: `Model.state_updates` will be removed in a future version. This property should not be used in TensorFlow 2.0, as `updates` are applied automatically.\n",
            "  warnings.warn('`Model.state_updates` will be removed in a future version. '\n"
          ],
          "name": "stderr"
        },
        {
          "output_type": "stream",
          "text": [
            "76499/76499 [==============================] - 7s 86us/sample - loss: 0.2349 - acc: 0.9185 - val_loss: 0.0731 - val_acc: 0.9348\n",
            "Epoch 2/50\n",
            "76499/76499 [==============================] - 4s 50us/sample - loss: 0.0663 - acc: 0.9382 - val_loss: 0.0630 - val_acc: 0.9461\n",
            "Epoch 3/50\n",
            "76499/76499 [==============================] - 4s 50us/sample - loss: 0.0509 - acc: 0.9478 - val_loss: 0.0448 - val_acc: 0.9541\n",
            "Epoch 4/50\n",
            "76499/76499 [==============================] - 4s 50us/sample - loss: 0.0438 - acc: 0.9570 - val_loss: 0.0377 - val_acc: 0.9616\n",
            "Epoch 5/50\n",
            "76499/76499 [==============================] - 4s 50us/sample - loss: 0.0391 - acc: 0.9611 - val_loss: 0.0340 - val_acc: 0.9665\n",
            "Epoch 6/50\n",
            "76499/76499 [==============================] - 4s 49us/sample - loss: 0.0356 - acc: 0.9638 - val_loss: 0.0310 - val_acc: 0.9698\n",
            "Epoch 7/50\n",
            "76499/76499 [==============================] - 4s 50us/sample - loss: 0.0335 - acc: 0.9658 - val_loss: 0.0293 - val_acc: 0.9729\n",
            "Epoch 8/50\n",
            "76499/76499 [==============================] - 4s 50us/sample - loss: 0.0314 - acc: 0.9677 - val_loss: 0.0289 - val_acc: 0.9727\n",
            "Epoch 9/50\n",
            "76499/76499 [==============================] - 4s 50us/sample - loss: 0.0303 - acc: 0.9679 - val_loss: 0.0318 - val_acc: 0.9655\n",
            "Epoch 10/50\n",
            "76499/76499 [==============================] - 4s 50us/sample - loss: 0.0293 - acc: 0.9682 - val_loss: 0.0327 - val_acc: 0.9695\n",
            "Epoch 11/50\n",
            "76499/76499 [==============================] - 4s 50us/sample - loss: 0.0286 - acc: 0.9684 - val_loss: 0.0272 - val_acc: 0.9647\n",
            "Epoch 12/50\n",
            "76499/76499 [==============================] - 4s 50us/sample - loss: 0.0278 - acc: 0.9682 - val_loss: 0.0271 - val_acc: 0.9715\n",
            "Epoch 13/50\n",
            "76499/76499 [==============================] - 4s 50us/sample - loss: 0.0268 - acc: 0.9679 - val_loss: 0.0281 - val_acc: 0.9649\n",
            "Epoch 14/50\n",
            "76499/76499 [==============================] - 4s 50us/sample - loss: 0.0259 - acc: 0.9684 - val_loss: 0.0244 - val_acc: 0.9671\n",
            "Epoch 15/50\n",
            "76499/76499 [==============================] - 4s 50us/sample - loss: 0.0256 - acc: 0.9670 - val_loss: 0.0221 - val_acc: 0.9694\n",
            "Epoch 16/50\n",
            "76499/76499 [==============================] - 4s 50us/sample - loss: 0.0250 - acc: 0.9681 - val_loss: 0.0253 - val_acc: 0.9761\n",
            "Epoch 17/50\n",
            "76499/76499 [==============================] - 4s 50us/sample - loss: 0.0243 - acc: 0.9681 - val_loss: 0.0226 - val_acc: 0.9781\n",
            "Epoch 18/50\n",
            "76499/76499 [==============================] - 4s 50us/sample - loss: 0.0240 - acc: 0.9684 - val_loss: 0.0281 - val_acc: 0.9615\n",
            "Epoch 19/50\n",
            "76499/76499 [==============================] - 4s 51us/sample - loss: 0.0234 - acc: 0.9686 - val_loss: 0.0213 - val_acc: 0.9726\n",
            "Epoch 20/50\n",
            "76499/76499 [==============================] - 4s 50us/sample - loss: 0.0232 - acc: 0.9697 - val_loss: 0.0246 - val_acc: 0.9744\n",
            "Epoch 21/50\n",
            "76499/76499 [==============================] - 4s 50us/sample - loss: 0.0226 - acc: 0.9705 - val_loss: 0.0226 - val_acc: 0.9747\n",
            "Epoch 22/50\n",
            "76499/76499 [==============================] - 4s 50us/sample - loss: 0.0226 - acc: 0.9711 - val_loss: 0.0204 - val_acc: 0.9739\n",
            "Epoch 23/50\n",
            "76499/76499 [==============================] - 4s 51us/sample - loss: 0.0220 - acc: 0.9721 - val_loss: 0.0238 - val_acc: 0.9771\n",
            "Epoch 24/50\n",
            "76499/76499 [==============================] - 4s 50us/sample - loss: 0.0218 - acc: 0.9721 - val_loss: 0.0239 - val_acc: 0.9758\n",
            "Epoch 25/50\n",
            "76499/76499 [==============================] - 4s 50us/sample - loss: 0.0216 - acc: 0.9713 - val_loss: 0.0222 - val_acc: 0.9674\n",
            "Epoch 26/50\n",
            "76499/76499 [==============================] - 4s 51us/sample - loss: 0.0215 - acc: 0.9718 - val_loss: 0.0230 - val_acc: 0.9671\n",
            "Epoch 27/50\n",
            "76499/76499 [==============================] - 4s 51us/sample - loss: 0.0216 - acc: 0.9715 - val_loss: 0.0191 - val_acc: 0.9804\n",
            "Epoch 28/50\n",
            "76499/76499 [==============================] - 4s 51us/sample - loss: 0.0212 - acc: 0.9727 - val_loss: 0.0264 - val_acc: 0.9791\n",
            "Epoch 29/50\n",
            "76499/76499 [==============================] - 4s 53us/sample - loss: 0.0209 - acc: 0.9728 - val_loss: 0.0247 - val_acc: 0.9738\n",
            "Epoch 30/50\n",
            "76499/76499 [==============================] - 4s 53us/sample - loss: 0.0210 - acc: 0.9729 - val_loss: 0.0199 - val_acc: 0.9751\n",
            "Epoch 31/50\n",
            "76499/76499 [==============================] - 4s 52us/sample - loss: 0.0209 - acc: 0.9731 - val_loss: 0.0218 - val_acc: 0.9795\n",
            "Epoch 32/50\n",
            "76499/76499 [==============================] - 4s 50us/sample - loss: 0.0209 - acc: 0.9733 - val_loss: 0.0201 - val_acc: 0.9696\n",
            "Epoch 33/50\n",
            "76499/76499 [==============================] - 4s 50us/sample - loss: 0.0208 - acc: 0.9728 - val_loss: 0.0194 - val_acc: 0.9668\n",
            "Epoch 34/50\n",
            "76499/76499 [==============================] - 4s 51us/sample - loss: 0.0208 - acc: 0.9727 - val_loss: 0.0181 - val_acc: 0.9761\n",
            "Epoch 35/50\n",
            "76499/76499 [==============================] - 4s 51us/sample - loss: 0.0203 - acc: 0.9735 - val_loss: 0.0189 - val_acc: 0.9795\n",
            "Epoch 36/50\n",
            "76499/76499 [==============================] - 4s 51us/sample - loss: 0.0204 - acc: 0.9733 - val_loss: 0.0181 - val_acc: 0.9788\n",
            "Epoch 37/50\n",
            "76499/76499 [==============================] - 4s 51us/sample - loss: 0.0201 - acc: 0.9739 - val_loss: 0.0192 - val_acc: 0.9773\n",
            "Epoch 38/50\n",
            "76499/76499 [==============================] - 4s 50us/sample - loss: 0.0200 - acc: 0.9745 - val_loss: 0.0207 - val_acc: 0.9792\n",
            "Epoch 39/50\n",
            "76499/76499 [==============================] - 4s 50us/sample - loss: 0.0198 - acc: 0.9738 - val_loss: 0.0192 - val_acc: 0.9753\n",
            "Epoch 40/50\n",
            "76499/76499 [==============================] - 4s 50us/sample - loss: 0.0199 - acc: 0.9748 - val_loss: 0.0202 - val_acc: 0.9761\n",
            "Epoch 41/50\n",
            "76499/76499 [==============================] - 4s 50us/sample - loss: 0.0198 - acc: 0.9743 - val_loss: 0.0185 - val_acc: 0.9784\n",
            "Epoch 42/50\n",
            "76499/76499 [==============================] - 4s 51us/sample - loss: 0.0197 - acc: 0.9753 - val_loss: 0.0172 - val_acc: 0.9762\n",
            "Epoch 43/50\n",
            "76499/76499 [==============================] - 4s 50us/sample - loss: 0.0199 - acc: 0.9753 - val_loss: 0.0194 - val_acc: 0.9749\n",
            "Epoch 44/50\n",
            "76499/76499 [==============================] - 4s 51us/sample - loss: 0.0197 - acc: 0.9753 - val_loss: 0.0175 - val_acc: 0.9798\n",
            "Epoch 45/50\n",
            "76499/76499 [==============================] - 4s 50us/sample - loss: 0.0191 - acc: 0.9749 - val_loss: 0.0192 - val_acc: 0.9847\n",
            "Epoch 46/50\n",
            "76499/76499 [==============================] - 4s 51us/sample - loss: 0.0191 - acc: 0.9754 - val_loss: 0.0192 - val_acc: 0.9772\n",
            "Epoch 47/50\n",
            "76499/76499 [==============================] - 4s 51us/sample - loss: 0.0194 - acc: 0.9755 - val_loss: 0.0163 - val_acc: 0.9828\n",
            "Epoch 48/50\n",
            "76499/76499 [==============================] - 4s 50us/sample - loss: 0.0191 - acc: 0.9753 - val_loss: 0.0191 - val_acc: 0.9631\n",
            "Epoch 49/50\n",
            "76499/76499 [==============================] - 4s 51us/sample - loss: 0.0188 - acc: 0.9756 - val_loss: 0.0187 - val_acc: 0.9842\n",
            "Epoch 50/50\n",
            "76499/76499 [==============================] - 4s 51us/sample - loss: 0.0190 - acc: 0.9756 - val_loss: 0.0171 - val_acc: 0.9808\n",
            "Testing the model:\n",
            "\n",
            "\n",
            "Testing Loss =  0.017412449376285076\n",
            "Testing Accuracy =  0.9812\n"
          ],
          "name": "stdout"
        }
      ]
    },
    {
      "cell_type": "code",
      "metadata": {
        "colab": {
          "base_uri": "https://localhost:8080/",
          "height": 295
        },
        "id": "hS7lOYoB2FGp",
        "outputId": "aadcded4-7654-420f-9066-63e272f6de91"
      },
      "source": [
        "plt.plot(history.history['acc'])\n",
        "plt.plot(history.history['val_acc'])\n",
        "plt.title('model accuracy')\n",
        "plt.ylabel('accuracy')\n",
        "plt.xlabel('epoch')\n",
        "plt.legend(['train', 'val'], loc='upper left')\n",
        "plt.show()"
      ],
      "execution_count": 4,
      "outputs": [
        {
          "output_type": "display_data",
          "data": {
            "image/png": "[encoded data removed]",
            "text/plain": [
              "<Figure size 432x288 with 1 Axes>"
            ]
          },
          "metadata": {
            "tags": [],
            "needs_background": "light"
          }
        }
      ]
    },
    {
      "cell_type": "code",
      "metadata": {
        "colab": {
          "base_uri": "https://localhost:8080/",
          "height": 295
        },
        "id": "Wprq1t_b2eU4",
        "outputId": "89b8f3e8-8922-40d7-9564-67ff8dd0543c"
      },
      "source": [
        "plt.plot(history.history['loss'])\n",
        "plt.plot(history.history['val_loss'])\n",
        "plt.title('model loss')\n",
        "plt.ylabel('loss')\n",
        "plt.xlabel('epoch')\n",
        "plt.legend(['train', 'val'], loc='upper left')\n",
        "plt.show()"
      ],
      "execution_count": 5,
      "outputs": [
        {
          "output_type": "display_data",
          "data": {
            "image/png": "[encoded data removed]",
            "text/plain": [
              "<Figure size 432x288 with 1 Axes>"
            ]
          },
          "metadata": {
            "tags": [],
            "needs_background": "light"
          }
        }
      ]
    },
    {
      "cell_type": "code",
      "metadata": {
        "colab": {
          "base_uri": "https://localhost:8080/"
        },
        "id": "j8HwkNcH8aPF",
        "outputId": "7e5be324-9a6d-4244-f176-1ed3d56f5437"
      },
      "source": [
        "#Visualising or Neural Network\n",
        "!pip install -q ann_visualizer\n",
        "from ann_visualizer.visualize import ann_viz;\n",
        "ann_viz(classifier, title=\"My neural network\")\n",
        "\n",
        "\n",
        "#Check the folder for \"network.gv.pdf\" to view the neural network"
      ],
      "execution_count": 6,
      "outputs": [
        {
          "output_type": "stream",
          "text": [
            "  Building wheel for ann-visualizer (setup.py) ... \u001b[?25l\u001b[?25hdone\n"
          ],
          "name": "stdout"
        }
      ]
    },
    {
      "cell_type": "markdown",
      "metadata": {
        "id": "HbHwbgd5JCYF"
      },
      "source": [
        "# Part 2: **Line**"
      ]
    },
    {
      "cell_type": "code",
      "metadata": {
        "colab": {
          "base_uri": "https://localhost:8080/",
          "height": 319
        },
        "id": "DjzaJQfQHiNc",
        "outputId": "c4852f95-375c-4c81-8aa9-ed9a541e2d20"
      },
      "source": [
        "## trying to plot x=10 line\n",
        "from matplotlib.ticker import MultipleLocator, FormatStrFormatter\n",
        "import imageio as img\n",
        "import glob,os\n",
        "\n",
        "try:  \n",
        "    os.mkdir('Figure')  \n",
        "except OSError as error:  \n",
        "    print(error)\n",
        "\n",
        "def oneFile():\n",
        "    with open('one.csv', 'w') as csvFile:\n",
        "        row = ['q1','q2','q3','xe','ye','thetae','t1','t2','t3']\n",
        "        csv.writer(csvFile).writerow(row)\n",
        "        arr=np.linspace(1,10,100)\n",
        "        for j in arr:\n",
        "            i= 10\n",
        "            theta=m.degrees(m.atan(j/i))\n",
        "            new_x=np.array([[i, j, theta]])\n",
        "            new_y=classifier.predict(new_x)\n",
        "            q1=float(new_y[0][0])\n",
        "            q2=float(new_y[0][1])\n",
        "            q3=float(new_y[0][2])\n",
        "            \n",
        "            t3=round(m.degrees(q1)+m.degrees(q2)+m.degrees(q3),2)\n",
        "            t1= round(l1*m.cos(q1)+ l2*m.cos(q1+q2)+ l3*m.cos(q1+q2+q3),2)\n",
        "            t2= round(l1*m.sin(q1)+ l2*m.sin(q1+q2)+ l3*m.sin(q1+q2+q3),2)\n",
        "\n",
        "\n",
        "            xintra= round(l1*m.cos(q1)+ l2*m.cos(q1+q2),2)\n",
        "            yintra= round(l1*m.sin(q1)+ l2*m.sin(q1+q2),2)\n",
        "            thetae=round(m.degrees(q1)+m.degrees(q2)+m.degrees(q3),2)\n",
        "            if( xintra>0 and yintra>0 and thetae>0 and thetae<90 and q1>0):\n",
        "                row = [q1,q2,q3,i,j,theta,t1,t2,t3]\n",
        "                plt.plot(i,j,'bo')\n",
        "                csv.writer(csvFile).writerow(row)\n",
        "                \n",
        "    csvFile.close()\n",
        "    \n",
        "oneFile()\n",
        "\n",
        "def plot_point(point, angle, length):\n",
        "    x, y = point\n",
        "    endy = y + length * m.sin(angle)\n",
        "    endx = x + length * m.cos(angle)\n",
        "    #plt.xlim([0,6])\n",
        "    #plt.ylim([0,6])\n",
        "    plt.plot([x, endx], [y, endy])\n",
        "    return endx,endy\n",
        "\n",
        "filename = 'one.csv'\n",
        "data = np.loadtxt(filename, delimiter=\",\", skiprows=1)\n",
        "\n",
        "ang1 = [row[0] for row in data]\n",
        "ang2 = [row[1] for row in data]\n",
        "ang3 = [row[2] for row in data]\n",
        "\n",
        "point = [0,0]\n",
        "c = 1\n",
        "images = []\n",
        "for i in range(len(data)):\n",
        "    fileName = 'Figure/one' + str(c) + '.png'\n",
        "    point = plot_point([0,0],ang1[i],l1)\n",
        "    point = plot_point(point,ang1[i]+ang2[i],l2)\n",
        "    plot_point(point,ang1[i]+ang2[i]+ang3[i],l3)\n",
        "    plt.savefig(fileName)\n",
        "    images.append(img.imread(fileName))\n",
        "    c = c+1\n",
        "    \n",
        "img.mimsave('Figure/animateone.gif',images) \n",
        "import glob, os\n",
        "for f in glob.glob(\"Figure/one*.png\"):\n",
        "    os.remove(f)"
      ],
      "execution_count": 7,
      "outputs": [
        {
          "output_type": "stream",
          "text": [
            "/usr/local/lib/python3.7/dist-packages/tensorflow/python/keras/engine/training.py:2325: UserWarning: `Model.state_updates` will be removed in a future version. This property should not be used in TensorFlow 2.0, as `updates` are applied automatically.\n",
            "  warnings.warn('`Model.state_updates` will be removed in a future version. '\n"
          ],
          "name": "stderr"
        },
        {
          "output_type": "display_data",
          "data": {
            "image/png": "[encoded data removed]",
            "text/plain": [
              "<Figure size 432x288 with 1 Axes>"
            ]
          },
          "metadata": {
            "tags": [],
            "needs_background": "light"
          }
        }
      ]
    },
    {
      "cell_type": "code",
      "metadata": {
        "colab": {
          "base_uri": "https://localhost:8080/"
        },
        "id": "GkPulvjDLs2K",
        "outputId": "d283e676-c078-475a-e7f6-48dd55de6350"
      },
      "source": [
        "## Performance of model for \"Line\"\n",
        "from sklearn.metrics import mean_squared_error\n",
        "\n",
        "data=pd.read_csv('one.csv')\n",
        "\n",
        "#root mean error\n",
        "X_true=data['xe']\n",
        "X_pred=data['t1']\n",
        "rmse_x=mean_squared_error(X_true,X_pred)\n",
        "\n",
        "Y_true=data['ye']\n",
        "Y_pred=data['t2']\n",
        "rmse_y=mean_squared_error(Y_true,Y_pred) \n",
        "\n",
        "print('\\nrmse in x = ', rmse_x) \n",
        "print('rmse in y = ', rmse_y)\n",
        "\n",
        "## adjusted rsquared test\n",
        "regressor_OLS = sm.OLS(endog = X_true, exog = X_pred).fit() \n",
        "print(regressor_OLS.rsquared_adj)\n",
        "regressor_OLS = sm.OLS(endog = Y_true, exog = Y_pred).fit() \n",
        "print(regressor_OLS.rsquared_adj)  "
      ],
      "execution_count": 8,
      "outputs": [
        {
          "output_type": "stream",
          "text": [
            "\n",
            "rmse in x =  0.2995859999999999\n",
            "rmse in y =  0.044182090909090935\n",
            "0.9987942227574087\n",
            "0.9988614545611207\n"
          ],
          "name": "stdout"
        }
      ]
    },
    {
      "cell_type": "code",
      "metadata": {
        "colab": {
          "base_uri": "https://localhost:8080/",
          "height": 287
        },
        "id": "V5HWxVURlXV1",
        "outputId": "aea045df-3e8f-4ba8-9ed1-c81f79d4bc24"
      },
      "source": [
        "## trying to plot \"Circle\"\n",
        "def circleFile():\n",
        "    with open('circle.csv', 'w') as csvFile:\n",
        "        row = ['q1','q2','q3','xe','ye','thetae','t1','t2','t3']\n",
        "        csv.writer(csvFile).writerow(row)\n",
        "        Xc = 10\n",
        "        Yc = 10\n",
        "        r = 5\n",
        "        data_points =100\n",
        "        points = np.linspace(0,360,num =data_points)\n",
        "        for p in points:\n",
        "            \n",
        "            ##parametric form of a circle\n",
        "            \n",
        "            \n",
        "            i=Xc + r*m.cos(np.radians(p))\n",
        "            j=Yc + r*m.sin(np.radians(p))\n",
        "            theta=m.degrees(m.atan(j/i))\n",
        "            new_x=np.array([[i, j, theta]])\n",
        "            new_y=classifier.predict(new_x)\n",
        "            q1=float(new_y[0][0])\n",
        "            q2=float(new_y[0][1])\n",
        "            q3=float(new_y[0][2])\n",
        "\n",
        "            t3=round(m.degrees(q1)+m.degrees(q2)+m.degrees(q3),2)\n",
        "            t1= round(l1*m.cos(q1)+ l2*m.cos(q1+q2)+ l3*m.cos(q1+q2+q3),2)\n",
        "            t2= round(l1*m.sin(q1)+ l2*m.sin(q1+q2)+ l3*m.sin(q1+q2+q3),2)\n",
        "            \n",
        "            row = [q1,q2,q3,i,j,theta,t1,t2,t3]\n",
        "            #plt.xlim([0,20])\n",
        "            #plt.ylim([0,20])\n",
        "            plt.plot(i,j,'go')\n",
        "            csv.writer(csvFile).writerow(row)\n",
        "                \n",
        "    csvFile.close()\n",
        "    \n",
        "circleFile()\n",
        "\n",
        "def plot_point(point, angle, length):\n",
        "    x, y = point\n",
        "    endy = y + length * m.sin(angle)\n",
        "    endx = x + length * m.cos(angle)\n",
        "    #plt.xlim([0,6])\n",
        "    #plt.ylim([0,6])\n",
        "    #plt.plot([x, endx], [y, endy])\n",
        "    return endx,endy\n",
        "\n",
        "filename = 'circle.csv'\n",
        "data = np.loadtxt(filename, delimiter=\",\", skiprows=1)\n",
        "\n",
        "\n",
        "ang1 = [row[0] for row in data]\n",
        "ang2 = [row[1] for row in data]\n",
        "ang3 = [row[2] for row in data]\n",
        "\n",
        "point = [0,0]\n",
        "c = 1\n",
        "images = []\n",
        "for i in range(len(data)):\n",
        "    #fileName = 'Figure/circle' + str(c) + '.png'\n",
        "    point = plot_point([0,0],ang1[i],l1)\n",
        "    point = plot_point(point,ang1[i]+ang2[i],l2)\n",
        "    point=plot_point(point,ang1[i]+ang2[i]+ang3[i],l3)\n",
        "    plt.xlim([0,20])\n",
        "    plt.ylim([0,20])\n",
        "    plt.plot(point[0],point[1],'bo')\n",
        "    #plot_point(point,ang1[i]+ang2[i]+ang3[i],l3)\n",
        "    #plt.savefig(fileName)\n",
        "    #images.append(img.imread(fileName))\n",
        "    #c = c+1\n",
        "    \n",
        "'''img.mimsave('Figure/animatecircle.gif',images) \n",
        "import glob, os\n",
        "for f in glob.glob(\"Figure/circle*.png\"):\n",
        "    os.remove(f)'''"
      ],
      "execution_count": 9,
      "outputs": [
        {
          "output_type": "execute_result",
          "data": {
            "application/vnd.google.colaboratory.intrinsic+json": {
              "type": "string"
            },
            "text/plain": [
              "'img.mimsave(\\'Figure/animatecircle.gif\\',images) \\nimport glob, os\\nfor f in glob.glob(\"Figure/circle*.png\"):\\n    os.remove(f)'"
            ]
          },
          "metadata": {
            "tags": []
          },
          "execution_count": 9
        },
        {
          "output_type": "display_data",
          "data": {
            "image/png": "[encoded data removed]",
            "text/plain": [
              "<Figure size 432x288 with 1 Axes>"
            ]
          },
          "metadata": {
            "tags": [],
            "needs_background": "light"
          }
        }
      ]
    },
    {
      "cell_type": "code",
      "metadata": {
        "colab": {
          "base_uri": "https://localhost:8080/"
        },
        "id": "lUJRv3K7lzuY",
        "outputId": "a99ca736-f3bc-4794-c1b5-48fa98ed0fdf"
      },
      "source": [
        "## Performance of model for \"Circle\"\n",
        "from sklearn.metrics import mean_squared_error\n",
        "\n",
        "data=pd.read_csv('circle.csv')\n",
        "\n",
        "#rmse\n",
        "X_true=data['xe']\n",
        "X_pred=data['t1']\n",
        "rmse_x=mean_squared_error(X_true,X_pred)\n",
        "\n",
        "Y_true=data['ye']\n",
        "Y_pred=data['t2']\n",
        "rmse_y=mean_squared_error(Y_true,Y_pred) \n",
        "\n",
        "print('\\nrmse in x = ', rmse_x) \n",
        "print('rmse in y = ', rmse_y)\n",
        "\n",
        "## adjusted rsquared test\n",
        "regressor_OLS = sm.OLS(endog = X_true, exog = X_pred).fit() \n",
        "print(regressor_OLS.rsquared_adj)\n",
        "regressor_OLS = sm.OLS(endog = Y_true, exog = Y_pred).fit() \n",
        "print(regressor_OLS.rsquared_adj) "
      ],
      "execution_count": 10,
      "outputs": [
        {
          "output_type": "stream",
          "text": [
            "\n",
            "rmse in x =  0.16158960887298965\n",
            "rmse in y =  0.20307274499021713\n",
            "0.998656987906536\n",
            "0.9984350871890079\n"
          ],
          "name": "stdout"
        }
      ]
    },
    {
      "cell_type": "code",
      "metadata": {
        "colab": {
          "base_uri": "https://localhost:8080/",
          "height": 287
        },
        "id": "tNrQr6ItqTOC",
        "outputId": "8b5cb2f3-4cb9-4903-c535-c801220d7776"
      },
      "source": [
        "## trying to plot \"HELLO\"   \n",
        "\n",
        "def helloFile():\n",
        "  with open('hello.csv', 'w') as csvFile:\n",
        "        row= ['q1','q2','q3','xe','ye','thetae','t1','t2','t3']\n",
        "        csv.writer(csvFile).writerow(row)\n",
        "\n",
        "        # for H\n",
        "        arr=np.linspace(7,10,100)\n",
        "        for j in arr:\n",
        "            i= 7\n",
        "            theta=m.degrees(m.atan(j/i))\n",
        "            new_x=np.array([[i, j, theta]])\n",
        "            new_y=classifier.predict(new_x)\n",
        "            q1=float(new_y[0][0])\n",
        "            q2=float(new_y[0][1])\n",
        "            q3=float(new_y[0][2])\n",
        "            \n",
        "            t3=round(m.degrees(q1)+m.degrees(q2)+m.degrees(q3),2)\n",
        "            t1= round(l1*m.cos(q1)+ l2*m.cos(q1+q2)+ l3*m.cos(q1+q2+q3),2)\n",
        "            t2= round(l1*m.sin(q1)+ l2*m.sin(q1+q2)+ l3*m.sin(q1+q2+q3),2)\n",
        "            row = [q1,q2,q3,i,j,theta,t1,t2,t3]\n",
        "            plt.plot(i,j,'go')\n",
        "            csv.writer(csvFile).writerow(row)\n",
        "\n",
        "        arr=np.linspace(7,9,100)\n",
        "        for i in arr:\n",
        "            j=8\n",
        "            theta=m.degrees(m.atan(j/i))\n",
        "            new_x=np.array([[i, j, theta]])\n",
        "            new_y=classifier.predict(new_x)\n",
        "            q1=float(new_y[0][0])\n",
        "            q2=float(new_y[0][1])\n",
        "            q3=float(new_y[0][2])\n",
        "            \n",
        "            t3=round(m.degrees(q1)+m.degrees(q2)+m.degrees(q3),2)\n",
        "            t1= round(l1*m.cos(q1)+ l2*m.cos(q1+q2)+ l3*m.cos(q1+q2+q3),2)\n",
        "            t2= round(l1*m.sin(q1)+ l2*m.sin(q1+q2)+ l3*m.sin(q1+q2+q3),2)\n",
        "            row = [q1,q2,q3,i,j,theta,t1,t2,t3]\n",
        "            plt.plot(i,j,'go')\n",
        "            csv.writer(csvFile).writerow(row)\n",
        "\n",
        "        arr=np.linspace(7,10,100)\n",
        "        for j in arr:\n",
        "            i= 9\n",
        "            theta=m.degrees(m.atan(j/i))\n",
        "            new_x=np.array([[i, j, theta]])\n",
        "            new_y=classifier.predict(new_x)\n",
        "            q1=float(new_y[0][0])\n",
        "            q2=float(new_y[0][1])\n",
        "            q3=float(new_y[0][2])\n",
        "\n",
        "            t3=round(m.degrees(q1)+m.degrees(q2)+m.degrees(q3),2)\n",
        "            t1= round(l1*m.cos(q1)+ l2*m.cos(q1+q2)+ l3*m.cos(q1+q2+q3),2)\n",
        "            t2= round(l1*m.sin(q1)+ l2*m.sin(q1+q2)+ l3*m.sin(q1+q2+q3),2)\n",
        "            row = [q1,q2,q3,i,j,theta,t1,t2,t3]\n",
        "            plt.plot(i,j,'go')\n",
        "            csv.writer(csvFile).writerow(row)\n",
        "\n",
        "        # for E\n",
        "        arr=np.linspace(4,7,100)\n",
        "        for j in arr:\n",
        "            i= 10\n",
        "            theta=m.degrees(m.atan(j/i))\n",
        "            new_x=np.array([[i, j, theta]])\n",
        "            new_y=classifier.predict(new_x)\n",
        "            q1=float(new_y[0][0])\n",
        "            q2=float(new_y[0][1])\n",
        "            q3=float(new_y[0][2])\n",
        "            \n",
        "            t3=round(m.degrees(q1)+m.degrees(q2)+m.degrees(q3),2)\n",
        "            t1= round(l1*m.cos(q1)+ l2*m.cos(q1+q2)+ l3*m.cos(q1+q2+q3),2)\n",
        "            t2= round(l1*m.sin(q1)+ l2*m.sin(q1+q2)+ l3*m.sin(q1+q2+q3),2)\n",
        "            row = [q1,q2,q3,i,j,theta,t1,t2,t3]\n",
        "            plt.plot(i,j,'go')\n",
        "            csv.writer(csvFile).writerow(row)\n",
        "        \n",
        "        arr=np.linspace(10,12,100)\n",
        "        for i in arr:\n",
        "            j=7\n",
        "            theta=m.degrees(m.atan(j/i))\n",
        "            new_x=np.array([[i, j, theta]])\n",
        "            new_y=classifier.predict(new_x)\n",
        "            q1=float(new_y[0][0])\n",
        "            q2=float(new_y[0][1])\n",
        "            q3=float(new_y[0][2])\n",
        "            \n",
        "            t3=round(m.degrees(q1)+m.degrees(q2)+m.degrees(q3),2)\n",
        "            t1= round(l1*m.cos(q1)+ l2*m.cos(q1+q2)+ l3*m.cos(q1+q2+q3),2)\n",
        "            t2= round(l1*m.sin(q1)+ l2*m.sin(q1+q2)+ l3*m.sin(q1+q2+q3),2)\n",
        "            row = [q1,q2,q3,i,j,theta,t1,t2,t3]\n",
        "            plt.plot(i,j,'go')\n",
        "            csv.writer(csvFile).writerow(row)\n",
        "\n",
        "        arr=np.linspace(10,11,100)\n",
        "        for i in arr:\n",
        "            j=5\n",
        "            theta=m.degrees(m.atan(j/i))\n",
        "            new_x=np.array([[i, j, theta]])\n",
        "            new_y=classifier.predict(new_x)\n",
        "            q1=float(new_y[0][0])\n",
        "            q2=float(new_y[0][1])\n",
        "            q3=float(new_y[0][2])\n",
        "\n",
        "            t3=round(m.degrees(q1)+m.degrees(q2)+m.degrees(q3),2)\n",
        "            t1= round(l1*m.cos(q1)+ l2*m.cos(q1+q2)+ l3*m.cos(q1+q2+q3),2)\n",
        "            t2= round(l1*m.sin(q1)+ l2*m.sin(q1+q2)+ l3*m.sin(q1+q2+q3),2)\n",
        "            row = [q1,q2,q3,i,j,theta,t1,t2,t3]\n",
        "            plt.plot(i,j,'go')\n",
        "            csv.writer(csvFile).writerow(row)\n",
        "\n",
        "        arr=np.linspace(10,12,100)\n",
        "        for i in arr:\n",
        "            j=4\n",
        "            theta=m.degrees(m.atan(j/i))\n",
        "            new_x=np.array([[i, j, theta]])\n",
        "            new_y=classifier.predict(new_x)\n",
        "            q1=float(new_y[0][0])\n",
        "            q2=float(new_y[0][1])\n",
        "            q3=float(new_y[0][2])\n",
        "\n",
        "            t3=round(m.degrees(q1)+m.degrees(q2)+m.degrees(q3),2)\n",
        "            t1= round(l1*m.cos(q1)+ l2*m.cos(q1+q2)+ l3*m.cos(q1+q2+q3),2)\n",
        "            t2= round(l1*m.sin(q1)+ l2*m.sin(q1+q2)+ l3*m.sin(q1+q2+q3),2)\n",
        "            row = [q1,q2,q3,i,j,theta,t1,t2,t3]\n",
        "            plt.plot(i,j,'go')\n",
        "            csv.writer(csvFile).writerow(row)\n",
        "\n",
        "        # for L\n",
        "        arr=np.linspace(4,7,100)\n",
        "        for j in arr:\n",
        "            i= 13\n",
        "            theta=m.degrees(m.atan(j/i))\n",
        "            new_x=np.array([[i, j, theta]])\n",
        "            new_y=classifier.predict(new_x)\n",
        "            q1=float(new_y[0][0])\n",
        "            q2=float(new_y[0][1])\n",
        "            q3=float(new_y[0][2])\n",
        "\n",
        "            t3=round(m.degrees(q1)+m.degrees(q2)+m.degrees(q3),2)\n",
        "            t1= round(l1*m.cos(q1)+ l2*m.cos(q1+q2)+ l3*m.cos(q1+q2+q3),2)\n",
        "            t2= round(l1*m.sin(q1)+ l2*m.sin(q1+q2)+ l3*m.sin(q1+q2+q3),2)\n",
        "\n",
        "            row = [q1,q2,q3,i,j,theta,t1,t2,t3]\n",
        "            plt.plot(i,j,'go')\n",
        "            csv.writer(csvFile).writerow(row)\n",
        "\n",
        "        arr=np.linspace(13,14,100)\n",
        "        for i in arr:\n",
        "            j=4\n",
        "            theta=m.degrees(m.atan(j/i))\n",
        "            new_x=np.array([[i, j, theta]])\n",
        "            new_y=classifier.predict(new_x)\n",
        "            q1=float(new_y[0][0])\n",
        "            q2=float(new_y[0][1])\n",
        "            q3=float(new_y[0][2])\n",
        "\n",
        "            t3=round(m.degrees(q1)+m.degrees(q2)+m.degrees(q3),2)\n",
        "            t1= round(l1*m.cos(q1)+ l2*m.cos(q1+q2)+ l3*m.cos(q1+q2+q3),2)\n",
        "            t2= round(l1*m.sin(q1)+ l2*m.sin(q1+q2)+ l3*m.sin(q1+q2+q3),2)\n",
        "\n",
        "            row = [q1,q2,q3,i,j,theta,t1,t2,t3]\n",
        "            plt.plot(i,j,'go')\n",
        "            csv.writer(csvFile).writerow(row)\n",
        "\n",
        "        # for L\n",
        "        arr=np.linspace(4,7,100)\n",
        "        for j in arr:\n",
        "            i= 15\n",
        "            theta=m.degrees(m.atan(j/i))\n",
        "            new_x=np.array([[i, j, theta]])\n",
        "            new_y=classifier.predict(new_x)\n",
        "            q1=float(new_y[0][0])\n",
        "            q2=float(new_y[0][1])\n",
        "            q3=float(new_y[0][2])\n",
        "\n",
        "            t3=round(m.degrees(q1)+m.degrees(q2)+m.degrees(q3),2)\n",
        "            t1= round(l1*m.cos(q1)+ l2*m.cos(q1+q2)+ l3*m.cos(q1+q2+q3),2)\n",
        "            t2= round(l1*m.sin(q1)+ l2*m.sin(q1+q2)+ l3*m.sin(q1+q2+q3),2)\n",
        "\n",
        "            row = [q1,q2,q3,i,j,theta,t1,t2,t3]\n",
        "            plt.plot(i,j,'go')\n",
        "            csv.writer(csvFile).writerow(row)\n",
        "\n",
        "        arr=np.linspace(15,16,100)\n",
        "        for i in arr:\n",
        "            j=4\n",
        "            theta=m.degrees(m.atan(j/i))\n",
        "            new_x=np.array([[i, j, theta]])\n",
        "            new_y=classifier.predict(new_x)\n",
        "            q1=float(new_y[0][0])\n",
        "            q2=float(new_y[0][1])\n",
        "            q3=float(new_y[0][2])\n",
        "\n",
        "            t3=round(m.degrees(q1)+m.degrees(q2)+m.degrees(q3),2)\n",
        "            t1= round(l1*m.cos(q1)+ l2*m.cos(q1+q2)+ l3*m.cos(q1+q2+q3),2)\n",
        "            t2= round(l1*m.sin(q1)+ l2*m.sin(q1+q2)+ l3*m.sin(q1+q2+q3),2)\n",
        "\n",
        "            row = [q1,q2,q3,i,j,theta,t1,t2,t3]\n",
        "            plt.plot(i,j,'go')\n",
        "            csv.writer(csvFile).writerow(row)\n",
        "        \n",
        "        Xc = 18\n",
        "        Yc = 6\n",
        "        r = 1\n",
        "        data_points =100\n",
        "        points = np.linspace(0,360,num =data_points)\n",
        "        for p in points:\n",
        "            i=Xc + r*m.cos(np.radians(p))\n",
        "            j=Yc + r*m.sin(np.radians(p))\n",
        "            theta=m.degrees(m.atan(j/i))\n",
        "            new_x=np.array([[i, j, theta]])\n",
        "            new_y=classifier.predict(new_x)\n",
        "            q1=float(new_y[0][0])\n",
        "            q2=float(new_y[0][1])\n",
        "            q3=float(new_y[0][2])\n",
        "\n",
        "            t3=round(m.degrees(q1)+m.degrees(q2)+m.degrees(q3),2)\n",
        "            t1= round(l1*m.cos(q1)+ l2*m.cos(q1+q2)+ l3*m.cos(q1+q2+q3),2)\n",
        "            t2= round(l1*m.sin(q1)+ l2*m.sin(q1+q2)+ l3*m.sin(q1+q2+q3),2)\n",
        "\n",
        "            row = [q1,q2,q3,i,j,theta,t1,t2,t3]\n",
        "            plt.plot(i,j,'go')\n",
        "            csv.writer(csvFile).writerow(row)\n",
        "  csvFile.close()\n",
        "        \n",
        "    \n",
        "helloFile()\n",
        "\n",
        "def plot_point(point, angle, length):\n",
        "    x, y = point\n",
        "    endy = y + length * m.sin(angle)\n",
        "    endx = x + length * m.cos(angle)\n",
        "    #plt.xlim([0,6])\n",
        "    #plt.ylim([0,6])\n",
        "    #plt.plot([x, endx], [y, endy])\n",
        "    return endx,endy\n",
        "\n",
        "filename = 'hello.csv'\n",
        "data = np.loadtxt(filename, delimiter=\",\", skiprows=1)\n",
        "\n",
        "\n",
        "ang1 = [row[0] for row in data]\n",
        "ang2 = [row[1] for row in data]\n",
        "ang3 = [row[2] for row in data]\n",
        "\n",
        "point = [0,0]\n",
        "c = 1\n",
        "images = []\n",
        "import time\n",
        "\n",
        "#time_start = time.clock()\n",
        "for i in range(len(data)):\n",
        "    #fileName = 'Figure/circle' + str(c) + '.png'\n",
        "    point = plot_point([0,0],ang1[i],l1)\n",
        "    point = plot_point(point,ang1[i]+ang2[i],l2)\n",
        "    point=plot_point(point,ang1[i]+ang2[i]+ang3[i],l3)\n",
        "    plt.xlim([0,20])\n",
        "    plt.ylim([0,20])\n",
        "    plt.plot(point[0],point[1],'bo')\n",
        "    plot_point(point,ang1[i]+ang2[i]+ang3[i],l3)\n",
        "    #plt.savefig(fileName)\n",
        "    #images.append(img.imread(fileName))\n",
        "    #c = c+1\n",
        "#time_elapsed = (time.clock() - time_start)\n",
        "#print(time_elapsed)   \n",
        "'''img.mimsave('Figure/animatecircle.gif',images) \n",
        "import glob, os\n",
        "for f in glob.glob(\"Figure/circle*.png\"):\n",
        "    os.remove(f)'''"
      ],
      "execution_count": 11,
      "outputs": [
        {
          "output_type": "execute_result",
          "data": {
            "application/vnd.google.colaboratory.intrinsic+json": {
              "type": "string"
            },
            "text/plain": [
              "'img.mimsave(\\'Figure/animatecircle.gif\\',images) \\nimport glob, os\\nfor f in glob.glob(\"Figure/circle*.png\"):\\n    os.remove(f)'"
            ]
          },
          "metadata": {
            "tags": []
          },
          "execution_count": 11
        },
        {
          "output_type": "display_data",
          "data": {
            "image/png": "[encoded data removed]",
            "text/plain": [
              "<Figure size 432x288 with 1 Axes>"
            ]
          },
          "metadata": {
            "tags": [],
            "needs_background": "light"
          }
        }
      ]
    },
    {
      "cell_type": "code",
      "metadata": {
        "colab": {
          "base_uri": "https://localhost:8080/"
        },
        "id": "puTWxL1-rFpt",
        "outputId": "7dac88d8-150d-42a0-ff1a-f217dc8e4408"
      },
      "source": [
        "## Performance of Model for \"Hello\"\n",
        "from sklearn.metrics import mean_squared_error\n",
        "\n",
        "data=pd.read_csv('hello.csv')\n",
        "\n",
        "X_true=data['xe']\n",
        "X_pred=data['t1']\n",
        "rmse_x=mean_squared_error(X_true,X_pred)\n",
        "\n",
        "Y_true=data['ye']\n",
        "Y_pred=data['t2']\n",
        "rmse_y=mean_squared_error(Y_true,Y_pred) \n",
        "\n",
        "print('\\nrmse in x = ', rmse_x) \n",
        "print('rmse in y = ', rmse_y)\n",
        "\n",
        "## adjusted rsquared test\n",
        "regressor_OLS = sm.OLS(endog = X_true, exog = X_pred).fit() \n",
        "print(regressor_OLS.rsquared_adj)\n",
        "regressor_OLS = sm.OLS(endog = Y_true, exog = Y_pred).fit() \n",
        "print(regressor_OLS.rsquared_adj) "
      ],
      "execution_count": 12,
      "outputs": [
        {
          "output_type": "stream",
          "text": [
            "\n",
            "rmse in x =  0.2433784173437771\n",
            "rmse in y =  0.22253720752758213\n",
            "0.9995601395254694\n",
            "0.9961571657911803\n"
          ],
          "name": "stdout"
        }
      ]
    },
    {
      "cell_type": "code",
      "metadata": {
        "id": "HuSyf2d-LKaP",
        "colab": {
          "base_uri": "https://localhost:8080/",
          "height": 283
        },
        "outputId": "b71177c4-3ddf-4590-fb2b-a984403f23e3"
      },
      "source": [
        "## trying to plot \"IIITM\"   \n",
        "\n",
        "def iiitmFile():\n",
        "  with open('iiitm.csv', 'w') as csvFile:\n",
        "        row= ['q1','q2','q3','xe','ye','thetae','t1','t2','t3']\n",
        "        csv.writer(csvFile).writerow(row)\n",
        "\n",
        "        # for I\n",
        "        arr=np.linspace(7,10,100)\n",
        "        for j in arr:\n",
        "            i= 7\n",
        "            theta=m.degrees(m.atan(j/i))\n",
        "            new_x=np.array([[i, j, theta]])\n",
        "            new_y=classifier.predict(new_x)\n",
        "            q1=float(new_y[0][0])\n",
        "            q2=float(new_y[0][1])\n",
        "            q3=float(new_y[0][2])\n",
        "            \n",
        "            t3=round(m.degrees(q1)+m.degrees(q2)+m.degrees(q3),2)\n",
        "            t1= round(l1*m.cos(q1)+ l2*m.cos(q1+q2)+ l3*m.cos(q1+q2+q3),2)\n",
        "            t2= round(l1*m.sin(q1)+ l2*m.sin(q1+q2)+ l3*m.sin(q1+q2+q3),2)\n",
        "            row = [q1,q2,q3,i,j,theta,t1,t2,t3]\n",
        "            plt.plot(i,j,'go')\n",
        "            csv.writer(csvFile).writerow(row)\n",
        "\n",
        "       \n",
        "        # for I\n",
        "        arr=np.linspace(7,10,100)\n",
        "        for j in arr:\n",
        "            i= 9\n",
        "            theta=m.degrees(m.atan(j/i))\n",
        "            new_x=np.array([[i, j, theta]])\n",
        "            new_y=classifier.predict(new_x)\n",
        "            q1=float(new_y[0][0])\n",
        "            q2=float(new_y[0][1])\n",
        "            q3=float(new_y[0][2])\n",
        "            \n",
        "            t3=round(m.degrees(q1)+m.degrees(q2)+m.degrees(q3),2)\n",
        "            t1= round(l1*m.cos(q1)+ l2*m.cos(q1+q2)+ l3*m.cos(q1+q2+q3),2)\n",
        "            t2= round(l1*m.sin(q1)+ l2*m.sin(q1+q2)+ l3*m.sin(q1+q2+q3),2)\n",
        "            row = [q1,q2,q3,i,j,theta,t1,t2,t3]\n",
        "            plt.plot(i,j,'go')\n",
        "            csv.writer(csvFile).writerow(row)\n",
        "        \n",
        "        #for I\n",
        "        \n",
        "        arr=np.linspace(7,10,100)\n",
        "        for j in arr:\n",
        "            i= 11\n",
        "            theta=m.degrees(m.atan(j/i))\n",
        "            new_x=np.array([[i, j, theta]])\n",
        "            new_y=classifier.predict(new_x)\n",
        "            q1=float(new_y[0][0])\n",
        "            q2=float(new_y[0][1])\n",
        "            q3=float(new_y[0][2])\n",
        "            \n",
        "            t3=round(m.degrees(q1)+m.degrees(q2)+m.degrees(q3),2)\n",
        "            t1= round(l1*m.cos(q1)+ l2*m.cos(q1+q2)+ l3*m.cos(q1+q2+q3),2)\n",
        "            t2= round(l1*m.sin(q1)+ l2*m.sin(q1+q2)+ l3*m.sin(q1+q2+q3),2)\n",
        "            row = [q1,q2,q3,i,j,theta,t1,t2,t3]\n",
        "            plt.plot(i,j,'go')\n",
        "            csv.writer(csvFile).writerow(row)\n",
        "            \n",
        "            \n",
        "            \n",
        "        #for T\n",
        "\n",
        "        arr=np.linspace(7,10,100)\n",
        "        for j in arr:\n",
        "            i=13\n",
        "            theta=m.degrees(m.atan(j/i))\n",
        "            new_x=np.array([[i, j, theta]])\n",
        "            new_y=classifier.predict(new_x)\n",
        "            q1=float(new_y[0][0])\n",
        "            q2=float(new_y[0][1])\n",
        "            q3=float(new_y[0][2])\n",
        "\n",
        "            t3=round(m.degrees(q1)+m.degrees(q2)+m.degrees(q3),2)\n",
        "            t1= round(l1*m.cos(q1)+ l2*m.cos(q1+q2)+ l3*m.cos(q1+q2+q3),2)\n",
        "            t2= round(l1*m.sin(q1)+ l2*m.sin(q1+q2)+ l3*m.sin(q1+q2+q3),2)\n",
        "            row = [q1,q2,q3,i,j,theta,t1,t2,t3]\n",
        "            plt.plot(i,j,'go')\n",
        "            csv.writer(csvFile).writerow(row)\n",
        "            \n",
        "            \n",
        "        arr=np.linspace(11,14,100)\n",
        "        for i in arr:\n",
        "            j=10\n",
        "            theta=m.degrees(m.atan(j/i))\n",
        "            new_x=np.array([[i, j, theta]])\n",
        "            new_y=classifier.predict(new_x)\n",
        "            q1=float(new_y[0][0])\n",
        "            q2=float(new_y[0][1])\n",
        "            q3=float(new_y[0][2])\n",
        "\n",
        "            t3=round(m.degrees(q1)+m.degrees(q2)+m.degrees(q3),2)\n",
        "            t1= round(l1*m.cos(q1)+ l2*m.cos(q1+q2)+ l3*m.cos(q1+q2+q3),2)\n",
        "            t2= round(l1*m.sin(q1)+ l2*m.sin(q1+q2)+ l3*m.sin(q1+q2+q3),2)\n",
        "            row = [q1,q2,q3,i,j,theta,t1,t2,t3]\n",
        "            plt.plot(i,j,'go')\n",
        "            csv.writer(csvFile).writerow(row)\n",
        "            \n",
        "            \n",
        "             #for M\n",
        "\n",
        "        arr=np.linspace(7,10,100)\n",
        "        for j in arr:\n",
        "            i=15\n",
        "            theta=m.degrees(m.atan(j/i))\n",
        "            new_x=np.array([[i, j, theta]])\n",
        "            new_y=classifier.predict(new_x)\n",
        "            q1=float(new_y[0][0])\n",
        "            q2=float(new_y[0][1])\n",
        "            q3=float(new_y[0][2])\n",
        "\n",
        "            t3=round(m.degrees(q1)+m.degrees(q2)+m.degrees(q3),2)\n",
        "            t1= round(l1*m.cos(q1)+ l2*m.cos(q1+q2)+ l3*m.cos(q1+q2+q3),2)\n",
        "            t2= round(l1*m.sin(q1)+ l2*m.sin(q1+q2)+ l3*m.sin(q1+q2+q3),2)\n",
        "            row = [q1,q2,q3,i,j,theta,t1,t2,t3]\n",
        "            plt.plot(i,j,'go')\n",
        "            csv.writer(csvFile).writerow(row)\n",
        "            \n",
        "            \n",
        "        arr=np.linspace(10,8,100)\n",
        "        for j in arr:\n",
        "            i=25-j\n",
        "            theta=m.degrees(m.atan(j/i))\n",
        "            new_x=np.array([[i, j, theta]])\n",
        "            new_y=classifier.predict(new_x)\n",
        "            q1=float(new_y[0][0])\n",
        "            q2=float(new_y[0][1])\n",
        "            q3=float(new_y[0][2])\n",
        "\n",
        "            t3=round(m.degrees(q1)+m.degrees(q2)+m.degrees(q3),2)\n",
        "            t1= round(l1*m.cos(q1)+ l2*m.cos(q1+q2)+ l3*m.cos(q1+q2+q3),2)\n",
        "            t2= round(l1*m.sin(q1)+ l2*m.sin(q1+q2)+ l3*m.sin(q1+q2+q3),2)\n",
        "            row = [q1,q2,q3,i,j,theta,t1,t2,t3]\n",
        "            plt.plot(i,j,'go')\n",
        "            csv.writer(csvFile).writerow(row)\n",
        "            \n",
        "            \n",
        "        arr=np.linspace(8,10,100)\n",
        "        for j in arr:\n",
        "            i=j+9\n",
        "            theta=m.degrees(m.atan(j/i))\n",
        "            new_x=np.array([[i, j, theta]])\n",
        "            new_y=classifier.predict(new_x)\n",
        "            q1=float(new_y[0][0])\n",
        "            q2=float(new_y[0][1])\n",
        "            q3=float(new_y[0][2])\n",
        "\n",
        "            t3=round(m.degrees(q1)+m.degrees(q2)+m.degrees(q3),2)\n",
        "            t1= round(l1*m.cos(q1)+ l2*m.cos(q1+q2)+ l3*m.cos(q1+q2+q3),2)\n",
        "            t2= round(l1*m.sin(q1)+ l2*m.sin(q1+q2)+ l3*m.sin(q1+q2+q3),2)\n",
        "            row = [q1,q2,q3,i,j,theta,t1,t2,t3]\n",
        "            plt.plot(i,j,'go')\n",
        "            csv.writer(csvFile).writerow(row)\n",
        "            \n",
        "            \n",
        "            \n",
        "        arr=np.linspace(7,10,100)\n",
        "        for j in arr:\n",
        "            i= 19\n",
        "            theta=m.degrees(m.atan(j/i))\n",
        "            new_x=np.array([[i, j, theta]])\n",
        "            new_y=classifier.predict(new_x)\n",
        "            q1=float(new_y[0][0])\n",
        "            q2=float(new_y[0][1])\n",
        "            q3=float(new_y[0][2])\n",
        "            \n",
        "            t3=round(m.degrees(q1)+m.degrees(q2)+m.degrees(q3),2)\n",
        "            t1= round(l1*m.cos(q1)+ l2*m.cos(q1+q2)+ l3*m.cos(q1+q2+q3),2)\n",
        "            t2= round(l1*m.sin(q1)+ l2*m.sin(q1+q2)+ l3*m.sin(q1+q2+q3),2)\n",
        "            row = [q1,q2,q3,i,j,theta,t1,t2,t3]\n",
        "            plt.plot(i,j,'go')\n",
        "            csv.writer(csvFile).writerow(row)\n",
        "            \n",
        "            \n",
        "            \n",
        "        \n",
        "\n",
        "               \n",
        "  csvFile.close()\n",
        "        \n",
        "    \n",
        "iiitmFile()\n",
        "\n",
        "def plot_point(point, angle, length):\n",
        "    x, y = point\n",
        "    endy = y + length * m.sin(angle)\n",
        "    endx = x + length * m.cos(angle)\n",
        "    #plt.xlim([0,6])\n",
        "    #plt.ylim([0,6])\n",
        "    #plt.plot([x, endx], [y, endy])\n",
        "    return endx,endy\n",
        "\n",
        "filename = 'iiitm.csv'\n",
        "data = np.loadtxt(filename, delimiter=\",\", skiprows=1)\n",
        "\n",
        "\n",
        "ang1 = [row[0] for row in data]\n",
        "ang2 = [row[1] for row in data]\n",
        "ang3 = [row[2] for row in data]\n",
        "\n",
        "point = [0,0]\n",
        "c = 1\n",
        "images = []\n",
        "import time\n",
        "\n",
        "#time_start = time.clock()\n",
        "for i in range(len(data)):\n",
        "    #fileName = 'Figure/circle' + str(c) + '.png'\n",
        "    point = plot_point([0,0],ang1[i],l1)\n",
        "    point = plot_point(point,ang1[i]+ang2[i],l2)\n",
        "    point=plot_point(point,ang1[i]+ang2[i]+ang3[i],l3)\n",
        "    plt.xlim([0,22])\n",
        "    plt.ylim([0,22])\n",
        "    plt.plot(point[0],point[1],'bo')\n",
        "    plot_point(point,ang1[i]+ang2[i]+ang3[i],l3)\n",
        "    #plt.savefig(fileName)\n",
        "    #images.append(img.imread(fileName))\n",
        "    #c = c+1\n",
        "#time_elapsed = (time.clock() - time_start)\n",
        "#print(time_elapsed)   \n",
        "'''img.mimsave('Figure/animatecircle.gif',images) \n",
        "import glob, os\n",
        "for f in glob.glob(\"Figure/circle*.png\"):\n",
        "    os.remove(f)'''"
      ],
      "execution_count": 14,
      "outputs": [
        {
          "output_type": "execute_result",
          "data": {
            "application/vnd.google.colaboratory.intrinsic+json": {
              "type": "string"
            },
            "text/plain": [
              "'img.mimsave(\\'Figure/animatecircle.gif\\',images) \\nimport glob, os\\nfor f in glob.glob(\"Figure/circle*.png\"):\\n    os.remove(f)'"
            ]
          },
          "metadata": {
            "tags": []
          },
          "execution_count": 14
        },
        {
          "output_type": "display_data",
          "data": {
            "image/png": "[encoded data removed]",
            "text/plain": [
              "<Figure size 432x288 with 1 Axes>"
            ]
          },
          "metadata": {
            "tags": [],
            "needs_background": "light"
          }
        }
      ]
    },
    {
      "cell_type": "code",
      "metadata": {
        "id": "yjS98-Lq3Eh9"
      },
      "source": [
        ""
      ],
      "execution_count": null,
      "outputs": []
    }
  ]
}